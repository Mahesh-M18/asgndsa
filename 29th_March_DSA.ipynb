{
 "cells": [
  {
   "cell_type": "code",
   "execution_count": null,
   "id": "40ebb495-b632-4643-9ef9-69049c8f120b",
   "metadata": {},
   "outputs": [],
   "source": [
    "#Q.1 Can you explain the logic and working of the Tower of Hanoi algorithm by writing a Java program?\n",
    "#How does the recursion work, and how are the movements of disks between rods accomplished?"
   ]
  },
  {
   "cell_type": "raw",
   "id": "c5f85240-2c3d-4d49-b083-d57c0cc151a6",
   "metadata": {},
   "source": [
    "There are three towers A,B,C\n",
    "At first considering the towers as:\n",
    "A - Source\n",
    "B - Auxillary\n",
    "C - Destination\n",
    "\n",
    "There will be n number of disks on tower A\n",
    "\n",
    "we will divide this problem into three steps\n",
    "\n",
    "Step - 1:\n",
    "    A - Source\n",
    "    B - Destination\n",
    "    C - Auxilary\n",
    "    \n",
    "    Now we will move (n-1) number of disks to B(destination) following the rules\n",
    "\n",
    "Step - 2:\n",
    "    Moving the nth number of disk to tower C\n",
    "    \n",
    "Step - 3:\n",
    "    A - Auxilary\n",
    "    B - Source\n",
    "    C - Auxilary\n",
    "    \n",
    "    There are (n-1) number of disks in tower B which will act as Source\n",
    "    Now we will move those diskd to tower C(destination) following the rules\n",
    "\n",
    "The working and logic of tower of hanoi is Explained above"
   ]
  },
  {
   "cell_type": "code",
   "execution_count": null,
   "id": "ca6fad19-1936-443f-880d-763f4bf63a0a",
   "metadata": {},
   "outputs": [],
   "source": [
    "##function definition\n",
    "def towerofhanoi(n,s,a,d):\n",
    "    if n==1:\n",
    "        print(\"\\nMove disk \",n,\" from \",s,\" to \",d)\n",
    "    else:\n",
    "        towerofhanoi(n-1,s,d,a)\n",
    "        print(\"Move disk \",n,\" from \",s,\" to \",d)\n",
    "        towerofhanoi(n-1,a,s,d)\n",
    "        \n",
    "#driver code\n",
    "result=towerofhanoi(4,'s','a','d')\n",
    "print(result)\n",
    "\n",
    "#time complexity : O(2^n)\n",
    "#Space complexity : O(n)"
   ]
  },
  {
   "cell_type": "code",
   "execution_count": null,
   "id": "37b9acea-930e-4d3c-a62f-496cd72a2d61",
   "metadata": {},
   "outputs": [],
   "source": [
    "# #Q.2 Given two strings word1 and word2, return the minimum number of operations required to convert word1\n",
    "# to word2.\n",
    "# Example 1:\n",
    "# Input: word1 = \"horse\", word2 = \"ros\"\n",
    "# Output: 3\n",
    "# Explanation:\n",
    "# horse -> rorse (replace 'h' with 'r')\n",
    "# rorse -> rose (remove 'r')\n",
    "# rose -> ros (remove 'e')\n",
    "# Example 2:\n",
    "# Input: word1 = \"intention\", word2 = \"execution\"\n",
    "# Output: 5\n",
    "# Explanation:\n",
    "# intention -> inention (remove 't')\n",
    "# inention -> enention (replace 'i' with 'e')\n",
    "# enention -> exention (replace 'n' with 'x')\n",
    "# exention -> exection (replace 'n' with 'c')\n",
    "# exection -> execution (insert 'u')"
   ]
  },
  {
   "cell_type": "code",
   "execution_count": 70,
   "id": "0d8ae8b6-e8c2-4369-bd13-42e70d732562",
   "metadata": {},
   "outputs": [
    {
     "name": "stdout",
     "output_type": "stream",
     "text": [
      "3\n"
     ]
    }
   ],
   "source": [
    "#function definition\n",
    "def min_distance(word1, word2):\n",
    "    m, n = len(word1), len(word2)\n",
    "    dp = [[0] * (n + 1) for _ in range(m + 1)]\n",
    "    \n",
    "    for i in range(m + 1):\n",
    "        dp[i][0] = i\n",
    "    for j in range(n + 1):\n",
    "        dp[0][j] = j\n",
    "    for i in range(1, m + 1):\n",
    "        for j in range(1, n + 1):\n",
    "            if word1[i - 1] == word2[j - 1]:\n",
    "                dp[i][j] = dp[i - 1][j - 1] \n",
    "            else:\n",
    "                dp[i][j] = 1 + min(dp[i - 1][j], dp[i][j - 1], dp[i - 1][j - 1]) \n",
    "    return dp[m][n]\n",
    "\n",
    "# Driver code\n",
    "word1 = \"horse\"\n",
    "word2 = \"ros\"\n",
    "result=min_distance(word1, word2)\n",
    "print(result)\n",
    "\n",
    "#time complexity : O(m*n)\n",
    "#space complexity : O(m*n)"
   ]
  },
  {
   "cell_type": "code",
   "execution_count": null,
   "id": "b4989ab7-08cf-4d97-9ada-855e6f78d69b",
   "metadata": {},
   "outputs": [],
   "source": [
    "#Q. 3 Print the max value of the array [ 13, 1, -3, 22, 5]."
   ]
  },
  {
   "cell_type": "code",
   "execution_count": null,
   "id": "95092ee3-1874-45d5-95c6-55d5e2924db1",
   "metadata": {},
   "outputs": [],
   "source": [
    "#function definition\n",
    "def find_max(arr, n):\n",
    "    if n == 1:\n",
    "        return arr[0]\n",
    "    return max(arr[n-1], find_max(arr, n-1))\n",
    "\n",
    "#Driver code\n",
    "arr = [13, 1, -3, 22, 5]\n",
    "result=find_max(arr, len(arr))\n",
    "print(result)\n",
    "\n",
    "#time complexity : O(n)\n",
    "#space complexity : O(n)"
   ]
  },
  {
   "cell_type": "code",
   "execution_count": null,
   "id": "eb36b535-9e1b-4f17-9f66-e31e352f858d",
   "metadata": {},
   "outputs": [],
   "source": [
    "#Q.4 Find the sum of the values of the array [92, 23, 15, -20, 10]."
   ]
  },
  {
   "cell_type": "code",
   "execution_count": null,
   "id": "cbcd3705-76ea-40bb-b1e5-3930dd1203f5",
   "metadata": {},
   "outputs": [],
   "source": [
    "#function definition\n",
    "def sum_val(arr, n):\n",
    "    if n == 1:\n",
    "        return arr[0]\n",
    "    return arr[n-1] + sum_val(arr, n-1)\n",
    "\n",
    "#Driver code\n",
    "arr = [92, 23, 15, -20, 10]\n",
    "result=sum_val(arr, len(arr))\n",
    "print(result)\n",
    "\n",
    "#time complexity : O(n)\n",
    "#space complexity : O(n)"
   ]
  },
  {
   "cell_type": "code",
   "execution_count": null,
   "id": "b52713c0-0736-4ccd-bd77-e1109d1728cd",
   "metadata": {},
   "outputs": [],
   "source": [
    "# Q.5 Given a number n. Print if it is an armstrong number or not.An armstrong number is a number if the sum\n",
    "# of every digit in that number raised to the power of total digits in that number is equal to the number.\n",
    "# Example : 153 = 1^3 + 5^3 + 3^3 = 1 + 125 + 27 = 153 hence 153 is an armstrong number. (Easy)\n",
    "# Input1 : 153\n",
    "# Output1 : Yes\n",
    "# Input 2 : 134\n",
    "# Output2 : No"
   ]
  },
  {
   "cell_type": "code",
   "execution_count": null,
   "id": "df0e780d-f155-4e96-961c-a2de418239b5",
   "metadata": {},
   "outputs": [],
   "source": [
    "def armstrong_num(n,d,a):\n",
    "    if d==1:\n",
    "        return n**a\n",
    "    else:\n",
    "        return (n%10)**a + armstrong_num(n//10,d-1,a)\n",
    "def count_digits(n):\n",
    "    count = 0\n",
    "    while n:\n",
    "        count += 1\n",
    "        n //= 10\n",
    "    return count\n",
    "\n",
    "#driver code\n",
    "n = 153\n",
    "digits = count_digits(n)\n",
    "result=armstrong_num(n,digits,digits)\n",
    "if(result==n):\n",
    "    print(\"Yes\")\n",
    "else:\n",
    "    print(\"No\")\n",
    "    \n",
    "#time complexity : O(d)\n",
    "#space complexity : O(d)"
   ]
  }
 ],
 "metadata": {
  "kernelspec": {
   "display_name": "Python 3 (ipykernel)",
   "language": "python",
   "name": "python3"
  },
  "language_info": {
   "codemirror_mode": {
    "name": "ipython",
    "version": 3
   },
   "file_extension": ".py",
   "mimetype": "text/x-python",
   "name": "python",
   "nbconvert_exporter": "python",
   "pygments_lexer": "ipython3",
   "version": "3.10.8"
  }
 },
 "nbformat": 4,
 "nbformat_minor": 5
}
